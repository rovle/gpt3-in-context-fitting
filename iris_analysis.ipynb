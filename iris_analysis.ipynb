{
 "cells": [
  {
   "cell_type": "markdown",
   "source": [
    "This notebook loads the results of various Iris dataset experiments, calculates GPT-3 and kNN/logistic regression accuracies and compares them."
   ],
   "metadata": {}
  },
  {
   "cell_type": "code",
   "execution_count": 11,
   "source": [
    "import json\n",
    "from sklearn import datasets\n",
    "import numpy as np\n",
    "from sklearn.model_selection import train_test_split\n",
    "from sklearn.neighbors import KNeighborsClassifier\n",
    "from sklearn.linear_model import LogisticRegression\n",
    "from sklearn.preprocessing import StandardScaler\n",
    "from collections import defaultdict\n",
    "\n",
    "engines = ['ada', 'babbage', 'curie', 'davinci']\n",
    "\n",
    "iris = datasets.load_iris()\n",
    "\n",
    "transformed = 14*iris['data'] + 6\n",
    "transformed = np.vectorize(round)(transformed)\n",
    "y = iris.target"
   ],
   "outputs": [],
   "metadata": {}
  },
  {
   "cell_type": "markdown",
   "source": [
    "# Basic experiment"
   ],
   "metadata": {}
  },
  {
   "cell_type": "code",
   "execution_count": null,
   "source": [
    "random_states = [88, 91, 93, 95, 97]\n",
    "scores = defaultdict(list)\n",
    "for state in random_states:\n",
    "    with open(f'iris_results/basic experiment, no preamble, input-output'\n",
    "                f' terminology, random_state {state}.json', 'r') as file:\n",
    "\n",
    "        results = json.loads(file.read())\n",
    "\n",
    "        for k in [3,5,7]:\n",
    "            x_train, x_test, y_train, y_test = train_test_split(transformed, y,\n",
    "                                            test_size=0.5, stratify=y,\n",
    "                                            random_state=state)\n",
    "\n",
    "            neigh = KNeighborsClassifier(n_neighbors=k)\n",
    "            neigh.fit(x_train, y_train.reshape(-1, 1))\n",
    "\n",
    "            scores[f'knn_{k}'].append(neigh.score(x_test, y_test.reshape(-1, 1)))\n",
    "\n",
    "    sc = StandardScaler()\n",
    "    x_train = sc.fit_transform(x_train)\n",
    "    x_test = sc.transform(x_test)\n",
    "\n",
    "    classifier = LogisticRegression(random_state = 0, solver='lbfgs',\n",
    "                                    multi_class='auto')\n",
    "    classifier.fit(x_train, y_train)\n",
    "\n",
    "    scores['lr'].append(classifier.score(x_test, y_test.reshape(-1, 1)))\n",
    "\n",
    "\n",
    "    y_test = [int(x) for x in list(y_test)]\n",
    "\n",
    "    for engine in engines:\n",
    "        accurate = [1 if x==y else 0\n",
    "                    for x, y in zip(results[engine]['gpt_classification'],\n",
    "                                    y_test)]\n",
    "        scores[engine].append(sum(accurate)/len(accurate))\n"
   ],
   "outputs": [],
   "metadata": {}
  },
  {
   "cell_type": "code",
   "execution_count": 17,
   "source": [
    "for key in scores.keys():\n",
    "    print(key, np.mean(scores[key]))"
   ],
   "outputs": [
    {
     "output_type": "stream",
     "name": "stdout",
     "text": [
      "knn_3 0.9653333333333334\n",
      "knn_5 0.9573333333333333\n",
      "knn_7 0.96\n",
      "lr 0.9626666666666667\n",
      "ada 0.8986666666666666\n",
      "babbage 0.9306666666666666\n",
      "curie 0.952\n",
      "davinci 0.9573333333333334\n"
     ]
    }
   ],
   "metadata": {}
  },
  {
   "cell_type": "code",
   "execution_count": 25,
   "source": [
    "neigh = KNeighborsClassifier(n_neighbors=3)\n",
    "neigh.fit(x_train, y_train.reshape(-1, 1))\n",
    "\n",
    "print(neigh.score(x_test, y_test.reshape(-1, 1)))\n"
   ],
   "outputs": [
    {
     "output_type": "stream",
     "name": "stdout",
     "text": [
      "0.9733333333333334\n"
     ]
    },
    {
     "output_type": "stream",
     "name": "stderr",
     "text": [
      "<ipython-input-25-9b23b035048f>:2: DataConversionWarning: A column-vector y was passed when a 1d array was expected. Please change the shape of y to (n_samples, ), for example using ravel().\n",
      "  neigh.fit(x_train, y_train.reshape(-1, 1))\n"
     ]
    }
   ],
   "metadata": {}
  },
  {
   "cell_type": "code",
   "execution_count": 28,
   "source": [
    "sc = StandardScaler()\n",
    "x_train = sc.fit_transform(x_train)\n",
    "x_test = sc.transform(x_test)\n",
    "\n",
    "classifier = LogisticRegression(random_state = 0, solver='lbfgs', multi_class='auto')\n",
    "classifier.fit(x_train, y_train)\n",
    "\n",
    "classifier.score(x_test, y_test.reshape(-1, 1))"
   ],
   "outputs": [
    {
     "output_type": "execute_result",
     "data": {
      "text/plain": [
       "0.9733333333333334"
      ]
     },
     "metadata": {},
     "execution_count": 28
    }
   ],
   "metadata": {}
  },
  {
   "cell_type": "code",
   "execution_count": 5,
   "source": [
    "y_test = [int(x) for x in list(y_test)]\n"
   ],
   "outputs": [],
   "metadata": {}
  },
  {
   "cell_type": "code",
   "execution_count": 22,
   "source": [
    "for engine in engines:\n",
    "    accurate = [1 if x==y else 0\n",
    "                for x, y in zip(results[engine]['gpt_classification'],\n",
    "                                y_test)]\n",
    "    print(engine, sum(accurate)/len(accurate))"
   ],
   "outputs": [
    {
     "output_type": "stream",
     "name": "stdout",
     "text": [
      "ada 0.9066666666666666\n",
      "babbage 0.9333333333333333\n",
      "curie 0.9333333333333333\n",
      "davinci 0.9733333333333334\n"
     ]
    }
   ],
   "metadata": {}
  },
  {
   "cell_type": "markdown",
   "source": [
    "## Basic experiment, no preamble and bare numbers, random_state 88"
   ],
   "metadata": {}
  },
  {
   "cell_type": "code",
   "execution_count": 6,
   "source": [
    "with open('iris_results/basic experiment, no preamble and bare numbers, random_state 88.json', 'r') as file:\n",
    "    results = json.loads(file.read())\n",
    "\n",
    "for engine in engines:\n",
    "    accurate = [1 if x==y else 0\n",
    "                for x, y in zip(results[engine]['gpt_classification'],\n",
    "                                y_test)]\n",
    "    print(engine, sum(accurate)/len(accurate))"
   ],
   "outputs": [
    {
     "output_type": "stream",
     "name": "stdout",
     "text": [
      "ada 0.8933333333333333\n",
      "babbage 0.92\n",
      "curie 0.92\n",
      "davinci 0.9733333333333334\n"
     ]
    }
   ],
   "metadata": {}
  },
  {
   "cell_type": "markdown",
   "source": [
    "## Basic experiment, no preamble and bare numbers, two orders of magnitutde bigger, random_state 88"
   ],
   "metadata": {}
  },
  {
   "cell_type": "code",
   "execution_count": 7,
   "source": [
    "with open('iris_results/basic experiment, no preamble and bare numbers, two orders of magnitutde bigger, random_state 88.json', 'r') as file:\n",
    "    results = json.loads(file.read())\n",
    "\n",
    "for engine in engines:\n",
    "    accurate = [1 if x==y else 0\n",
    "                for x, y in zip(results[engine]['gpt_classification'],\n",
    "                                y_test)]\n",
    "    print(engine, sum(accurate)/len(accurate))"
   ],
   "outputs": [
    {
     "output_type": "stream",
     "name": "stdout",
     "text": [
      "ada 0.84\n",
      "babbage 0.8666666666666667\n",
      "curie 0.9733333333333334\n",
      "davinci 0.9066666666666666\n"
     ]
    }
   ],
   "metadata": {}
  },
  {
   "cell_type": "code",
   "execution_count": null,
   "source": [],
   "outputs": [],
   "metadata": {}
  }
 ],
 "metadata": {
  "orig_nbformat": 4,
  "language_info": {
   "name": "python",
   "version": "3.8.5",
   "mimetype": "text/x-python",
   "codemirror_mode": {
    "name": "ipython",
    "version": 3
   },
   "pygments_lexer": "ipython3",
   "nbconvert_exporter": "python",
   "file_extension": ".py"
  },
  "kernelspec": {
   "name": "python3",
   "display_name": "Python 3.8.5 64-bit ('gptregression': conda)"
  },
  "interpreter": {
   "hash": "71f0e3461ddbb8ca261c39df64ca4abf4ebaaadbbf981c0cdb0728086fb719e5"
  }
 },
 "nbformat": 4,
 "nbformat_minor": 2
}