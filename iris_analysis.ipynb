{
 "cells": [
  {
   "cell_type": "markdown",
   "source": [
    "# Preamble"
   ],
   "metadata": {}
  },
  {
   "cell_type": "code",
   "execution_count": 27,
   "source": [
    "import json\n",
    "from sklearn import datasets\n",
    "import numpy as np\n",
    "from sklearn.model_selection import train_test_split\n",
    "from sklearn.neighbors import KNeighborsClassifier\n",
    "from sklearn.linear_model import LogisticRegression\n",
    "from sklearn.preprocessing import StandardScaler\n",
    "\n",
    "engines = ['ada', 'babbage', 'curie', 'davinci']\n",
    "\n",
    "iris = datasets.load_iris()\n",
    "\n",
    "transformed = 14*iris['data'] + 6\n",
    "transformed = np.vectorize(round)(transformed)\n",
    "y = iris.target"
   ],
   "outputs": [],
   "metadata": {}
  },
  {
   "cell_type": "markdown",
   "source": [
    "## basic experiment, no preamble, input-output terminology, random_state 88"
   ],
   "metadata": {}
  },
  {
   "cell_type": "markdown",
   "source": [
    "### Loading, etc."
   ],
   "metadata": {}
  },
  {
   "cell_type": "code",
   "execution_count": 24,
   "source": [
    "with open('iris_results/basic experiment, no preamble, input-output terminology, random_state 88.json', 'r') as file:\n",
    "    results = json.loads(file.read())\n",
    "\n",
    "\n",
    "x_train, x_test, y_train, y_test = train_test_split(transformed, y,\n",
    "                                    test_size=0.5, stratify=y, random_state=88)\n"
   ],
   "outputs": [],
   "metadata": {}
  },
  {
   "cell_type": "code",
   "execution_count": 25,
   "source": [
    "neigh = KNeighborsClassifier(n_neighbors=3)\n",
    "neigh.fit(x_train, y_train.reshape(-1, 1))\n",
    "\n",
    "print(neigh.score(x_test, y_test.reshape(-1, 1)))\n"
   ],
   "outputs": [
    {
     "output_type": "stream",
     "name": "stdout",
     "text": [
      "0.9733333333333334\n"
     ]
    },
    {
     "output_type": "stream",
     "name": "stderr",
     "text": [
      "<ipython-input-25-9b23b035048f>:2: DataConversionWarning: A column-vector y was passed when a 1d array was expected. Please change the shape of y to (n_samples, ), for example using ravel().\n",
      "  neigh.fit(x_train, y_train.reshape(-1, 1))\n"
     ]
    }
   ],
   "metadata": {}
  },
  {
   "cell_type": "code",
   "execution_count": 28,
   "source": [
    "sc = StandardScaler()\n",
    "x_train = sc.fit_transform(x_train)\n",
    "x_test = sc.transform(x_test)\n",
    "\n",
    "classifier = LogisticRegression(random_state = 0, solver='lbfgs', multi_class='auto')\n",
    "classifier.fit(x_train, y_train)\n",
    "\n",
    "classifier.score(x_test, y_test.reshape(-1, 1))"
   ],
   "outputs": [
    {
     "output_type": "execute_result",
     "data": {
      "text/plain": [
       "0.9733333333333334"
      ]
     },
     "metadata": {},
     "execution_count": 28
    }
   ],
   "metadata": {}
  },
  {
   "cell_type": "code",
   "execution_count": 17,
   "source": [
    "y_test = [int(x) for x in list(y_test)]\n"
   ],
   "outputs": [],
   "metadata": {}
  },
  {
   "cell_type": "code",
   "execution_count": 22,
   "source": [
    "for engine in engines:\n",
    "    accurate = [1 if x==y else 0\n",
    "                for x, y in zip(results[engine]['gpt_classification'],\n",
    "                                y_test)]\n",
    "    print(engine, sum(accurate)/len(accurate))"
   ],
   "outputs": [
    {
     "output_type": "stream",
     "name": "stdout",
     "text": [
      "ada 0.9066666666666666\n",
      "babbage 0.9333333333333333\n",
      "curie 0.9333333333333333\n",
      "davinci 0.9733333333333334\n"
     ]
    }
   ],
   "metadata": {}
  },
  {
   "cell_type": "code",
   "execution_count": null,
   "source": [],
   "outputs": [],
   "metadata": {}
  }
 ],
 "metadata": {
  "orig_nbformat": 4,
  "language_info": {
   "name": "python",
   "version": "3.8.5",
   "mimetype": "text/x-python",
   "codemirror_mode": {
    "name": "ipython",
    "version": 3
   },
   "pygments_lexer": "ipython3",
   "nbconvert_exporter": "python",
   "file_extension": ".py"
  },
  "kernelspec": {
   "name": "python3",
   "display_name": "Python 3.8.5 64-bit ('gptregression': conda)"
  },
  "interpreter": {
   "hash": "71f0e3461ddbb8ca261c39df64ca4abf4ebaaadbbf981c0cdb0728086fb719e5"
  }
 },
 "nbformat": 4,
 "nbformat_minor": 2
}